{
 "cells": [
  {
   "cell_type": "markdown",
   "id": "bc900742",
   "metadata": {},
   "source": [
    "### Python Numpy"
   ]
  },
  {
   "cell_type": "code",
   "execution_count": 5,
   "id": "400a83e0",
   "metadata": {},
   "outputs": [],
   "source": [
    "import numpy as np"
   ]
  },
  {
   "cell_type": "markdown",
   "id": "fd170608",
   "metadata": {},
   "source": [
    "### Create an Array using list"
   ]
  },
  {
   "cell_type": "code",
   "execution_count": 47,
   "id": "00622b97",
   "metadata": {},
   "outputs": [
    {
     "data": {
      "text/plain": [
       "array([1, 2, 3, 4, 5])"
      ]
     },
     "execution_count": 47,
     "metadata": {},
     "output_type": "execute_result"
    }
   ],
   "source": [
    "a = np.array([1, 2, 3, 4, 5])\n",
    "a"
   ]
  },
  {
   "cell_type": "markdown",
   "id": "d5eae61c",
   "metadata": {},
   "source": [
    "### Create an Array using tuple"
   ]
  },
  {
   "cell_type": "code",
   "execution_count": 70,
   "id": "d9f6d236",
   "metadata": {},
   "outputs": [
    {
     "data": {
      "text/plain": [
       "array([5, 1, 3, 2, 4])"
      ]
     },
     "execution_count": 70,
     "metadata": {},
     "output_type": "execute_result"
    }
   ],
   "source": [
    "a = np.array((5, 1, 3, 2, 4))\n",
    "a"
   ]
  },
  {
   "cell_type": "markdown",
   "id": "a14cca3a",
   "metadata": {},
   "source": [
    "### Sorting Elements"
   ]
  },
  {
   "cell_type": "code",
   "execution_count": 69,
   "id": "03882236",
   "metadata": {},
   "outputs": [
    {
     "data": {
      "text/plain": [
       "array([1, 2, 3, 4, 5])"
      ]
     },
     "execution_count": 69,
     "metadata": {},
     "output_type": "execute_result"
    }
   ],
   "source": [
    "a = [5, 4, 3, 2, 1]\n",
    "np.sort(a)"
   ]
  },
  {
   "cell_type": "markdown",
   "id": "2e8db428",
   "metadata": {},
   "source": [
    "### Finding the Sum of the Elements of Array"
   ]
  },
  {
   "cell_type": "code",
   "execution_count": 61,
   "id": "8e1188d3",
   "metadata": {},
   "outputs": [
    {
     "data": {
      "text/plain": [
       "85"
      ]
     },
     "execution_count": 61,
     "metadata": {},
     "output_type": "execute_result"
    }
   ],
   "source": [
    "a.sum()"
   ]
  },
  {
   "cell_type": "markdown",
   "id": "74a066f6",
   "metadata": {},
   "source": [
    "### Finding the Standard Deviation of the Elements of Array"
   ]
  },
  {
   "cell_type": "code",
   "execution_count": 62,
   "id": "a6215f85",
   "metadata": {},
   "outputs": [
    {
     "data": {
      "text/plain": [
       "2.3524350399711254"
      ]
     },
     "execution_count": 62,
     "metadata": {},
     "output_type": "execute_result"
    }
   ],
   "source": [
    "np.std(a)"
   ]
  },
  {
   "cell_type": "markdown",
   "id": "7d622101",
   "metadata": {},
   "source": [
    "### Finding Mulidimensional Arrays"
   ]
  },
  {
   "cell_type": "code",
   "execution_count": 59,
   "id": "d226c3dd",
   "metadata": {},
   "outputs": [
    {
     "data": {
      "text/plain": [
       "(2, 3, 3)"
      ]
     },
     "execution_count": 59,
     "metadata": {},
     "output_type": "execute_result"
    }
   ],
   "source": [
    "import numpy as np\n",
    "a = np.array([[[1, 2, 3],[4, 5, 6],[7, 8, 9]],[[2, 4, 2],[4, 6, 6],[8, 6, 2]]])\n",
    "a.shape"
   ]
  },
  {
   "cell_type": "code",
   "execution_count": 60,
   "id": "a588124f",
   "metadata": {},
   "outputs": [
    {
     "data": {
      "text/plain": [
       "3"
      ]
     },
     "execution_count": 60,
     "metadata": {},
     "output_type": "execute_result"
    }
   ],
   "source": [
    "a.ndim"
   ]
  },
  {
   "cell_type": "markdown",
   "id": "0e27dd5a",
   "metadata": {},
   "source": [
    "### Accessing the Elements"
   ]
  },
  {
   "cell_type": "code",
   "execution_count": 65,
   "id": "30166a49",
   "metadata": {},
   "outputs": [
    {
     "data": {
      "text/plain": [
       "8"
      ]
     },
     "execution_count": 65,
     "metadata": {},
     "output_type": "execute_result"
    }
   ],
   "source": [
    "a[1, 2, 0]"
   ]
  },
  {
   "cell_type": "markdown",
   "id": "3e89fbf6",
   "metadata": {},
   "source": [
    "### Creating an Array of 5 Zeros"
   ]
  },
  {
   "cell_type": "code",
   "execution_count": 45,
   "id": "b8eb9545",
   "metadata": {},
   "outputs": [
    {
     "data": {
      "text/plain": [
       "array([0., 0., 0., 0., 0.])"
      ]
     },
     "execution_count": 45,
     "metadata": {},
     "output_type": "execute_result"
    }
   ],
   "source": [
    "a = np.zeros(5)\n",
    "a"
   ]
  },
  {
   "cell_type": "markdown",
   "id": "30638a00",
   "metadata": {},
   "source": [
    "### Creating an Array of 5 Ones"
   ]
  },
  {
   "cell_type": "code",
   "execution_count": 44,
   "id": "547926fb",
   "metadata": {},
   "outputs": [
    {
     "data": {
      "text/plain": [
       "array([1., 1., 1., 1., 1.])"
      ]
     },
     "execution_count": 44,
     "metadata": {},
     "output_type": "execute_result"
    }
   ],
   "source": [
    "a = np.ones(5)\n",
    "a"
   ]
  },
  {
   "cell_type": "markdown",
   "id": "cd486fdd",
   "metadata": {},
   "source": [
    "### Creating an Array of 5 Fives"
   ]
  },
  {
   "cell_type": "code",
   "execution_count": 43,
   "id": "fe65dcba",
   "metadata": {},
   "outputs": [
    {
     "data": {
      "text/plain": [
       "array([5., 5., 5., 5., 5.])"
      ]
     },
     "execution_count": 43,
     "metadata": {},
     "output_type": "execute_result"
    }
   ],
   "source": [
    "a = np.ones(5)*5\n",
    "a"
   ]
  },
  {
   "cell_type": "markdown",
   "id": "4ad6e95c",
   "metadata": {},
   "source": [
    "### Creating an Array of Integer Between 10 to 20"
   ]
  },
  {
   "cell_type": "code",
   "execution_count": 42,
   "id": "0258ca06",
   "metadata": {},
   "outputs": [
    {
     "data": {
      "text/plain": [
       "array([10, 11, 12, 13, 14, 15, 16, 17, 18, 19])"
      ]
     },
     "execution_count": 42,
     "metadata": {},
     "output_type": "execute_result"
    }
   ],
   "source": [
    "a = np.arange(10, 20)\n",
    "a"
   ]
  },
  {
   "cell_type": "markdown",
   "id": "48b36794",
   "metadata": {},
   "source": [
    "### Creating an Array of Even Integer Between 20 to 50"
   ]
  },
  {
   "cell_type": "code",
   "execution_count": 51,
   "id": "80534d5c",
   "metadata": {},
   "outputs": [
    {
     "data": {
      "text/plain": [
       "array([20, 22, 24, 26, 28, 30, 32, 34, 36, 38, 40, 42, 44, 46, 48])"
      ]
     },
     "execution_count": 51,
     "metadata": {},
     "output_type": "execute_result"
    }
   ],
   "source": [
    "a = np.arange(20, 50, 2)\n",
    "a"
   ]
  },
  {
   "cell_type": "markdown",
   "id": "3a5ae8c8",
   "metadata": {},
   "source": [
    "### Creating Random Numbers"
   ]
  },
  {
   "cell_type": "code",
   "execution_count": 38,
   "id": "a9254ee4",
   "metadata": {},
   "outputs": [
    {
     "data": {
      "text/plain": [
       "array([[0.42760508, 0.90655127, 0.36122618],\n",
       "       [0.50544683, 0.6419124 , 0.61175947],\n",
       "       [0.49240414, 0.42997922, 0.89009599],\n",
       "       [0.52302895, 0.10314719, 0.47099938],\n",
       "       [0.76989925, 0.18645163, 0.96133879]])"
      ]
     },
     "execution_count": 38,
     "metadata": {},
     "output_type": "execute_result"
    }
   ],
   "source": [
    "a = np.random.rand(5,3)  \n",
    "a"
   ]
  },
  {
   "cell_type": "markdown",
   "id": "04782fa6",
   "metadata": {},
   "source": [
    "### Generatingg Five Random Numbers"
   ]
  },
  {
   "cell_type": "code",
   "execution_count": 37,
   "id": "7723d2ed",
   "metadata": {},
   "outputs": [
    {
     "data": {
      "text/plain": [
       "array([0.25287234, 0.39601125, 0.37743468, 0.64087308, 0.17425383])"
      ]
     },
     "execution_count": 37,
     "metadata": {},
     "output_type": "execute_result"
    }
   ],
   "source": [
    "a = np.random.rand(5)\n",
    "a"
   ]
  },
  {
   "cell_type": "markdown",
   "id": "95c4a5dc",
   "metadata": {},
   "source": [
    "### Indexing and Selection"
   ]
  },
  {
   "cell_type": "code",
   "execution_count": 36,
   "id": "ad413d4c",
   "metadata": {},
   "outputs": [
    {
     "data": {
      "text/plain": [
       "array([[ 1,  2,  3,  4,  5],\n",
       "       [ 6,  7,  8,  9, 10],\n",
       "       [11, 12, 13, 14, 15],\n",
       "       [16, 17, 18, 19, 20],\n",
       "       [21, 22, 23, 24, 25]])"
      ]
     },
     "execution_count": 36,
     "metadata": {},
     "output_type": "execute_result"
    }
   ],
   "source": [
    "a = np.arange(1,26).reshape(5,5)\n",
    "a"
   ]
  }
 ],
 "metadata": {
  "kernelspec": {
   "display_name": "Python 3 (ipykernel)",
   "language": "python",
   "name": "python3"
  },
  "language_info": {
   "codemirror_mode": {
    "name": "ipython",
    "version": 3
   },
   "file_extension": ".py",
   "mimetype": "text/x-python",
   "name": "python",
   "nbconvert_exporter": "python",
   "pygments_lexer": "ipython3",
   "version": "3.9.12"
  }
 },
 "nbformat": 4,
 "nbformat_minor": 5
}
